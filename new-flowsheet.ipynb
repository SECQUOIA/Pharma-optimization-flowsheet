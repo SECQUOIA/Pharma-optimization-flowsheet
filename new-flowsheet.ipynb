{
 "cells": [
  {
   "cell_type": "code",
   "execution_count": 61,
   "id": "a3778da1",
   "metadata": {},
   "outputs": [],
   "source": [
    "import pyomo.environ as pyo\n",
    "import networkx as nx\n",
    "import matplotlib.pyplot as plt\n",
    "import pandas as pd\n",
    "from pathlib import Path"
   ]
  },
  {
   "cell_type": "code",
   "execution_count": 62,
   "id": "4de02262",
   "metadata": {},
   "outputs": [],
   "source": [
    "def load_data(file_name):\n",
    "    file_path = Path(file_name).resolve()\n",
    "    excel_file = pd.read_excel(file_path, sheet_name=None)\n",
    "    sheet_dicts = {\n",
    "        sheet_name: df.to_dict(orient=\"records\")\n",
    "        for sheet_name, df in excel_file.items()\n",
    "    }\n",
    "    # Assign each to a variable\n",
    "    step1_data = sheet_dicts.get(\"Step 1\")\n",
    "    step2_data = sheet_dicts.get(\"Step 2\")\n",
    "    return sheet_dicts, step1_data, step2_data\n",
    "\n",
    "def split_vendor_data(data):\n",
    "    vendor_names = [entry['vendor'] for entry in data]\n",
    "    \n",
    "    production_dict = {entry['vendor']: entry['production'] for entry in data}\n",
    "    cost_dict = {entry['vendor']: entry['cost'] for entry in data}\n",
    "    \n",
    "    return vendor_names, production_dict, cost_dict"
   ]
  },
  {
   "cell_type": "code",
   "execution_count": null,
   "id": "a6488031",
   "metadata": {},
   "outputs": [],
   "source": [
    "#TODO: think about units\n",
    "#TODO: build it as a class\n",
    "#TODO: pyomo set\n",
    "def optimize(vendors, production, cost, demand):\n",
    "    model = pyo.ConcreteModel(doc=\"flowsheet Optimization Model\")\n",
    "    steps = list(vendors.keys())\n",
    "    index_set = [(g, o) for g in steps for o in vendors[g]]\n",
    "    # Define binary decision variable\n",
    "    model.x = pyo.Var(index_set, domain=pyo.Binary)\n",
    "\n",
    "    # Constraint: select exactly one option per group\n",
    "    def one_per_group_rule(model, g):\n",
    "        return sum(model.x[g, o] for o in vendors[g]) == 1\n",
    "    model.one_per_group = pyo.Constraint(steps, rule=one_per_group_rule)\n",
    "    \n",
    "    # Constraint: production level\n",
    "    def prod_constraint(model):\n",
    "        return sum(production[g][o] * model.x[g, o] for g in production for o in production[g]) >= demand\n",
    "    model.prod_level = pyo.Constraint(rule=prod_constraint)\n",
    "\n",
    "    # Objective: minimize cost\n",
    "    def budget_constraint(model):\n",
    "        return sum(production[g][o] * model.x[g, o] for g in production for o in production[g])\n",
    "    model.obj = pyo.Objective(rule=budget_constraint, sense = pyo.minimize)\n",
    "\n",
    "    \n",
    "    opt = pyo.SolverFactory(\"gurobi\")\n",
    "    opt_success = opt.solve(model)\n",
    "\n",
    "    model.pprint()\n"
   ]
  },
  {
   "cell_type": "code",
   "execution_count": 64,
   "id": "d6d16175",
   "metadata": {},
   "outputs": [
    {
     "name": "stdout",
     "output_type": "stream",
     "text": [
      "{'Step 1': ['A', 'B'], 'Step 2': ['A', 'B', 'C', 'D']}\n",
      "flowsheet Optimization Model\n",
      "\n",
      "    1 Var Declarations\n",
      "        x : Size=6, Index={('Step 1', 'A'), ('Step 1', 'B'), ('Step 2', 'A'), ('Step 2', 'B'), ('Step 2', 'C'), ('Step 2', 'D')}\n",
      "            Key             : Lower : Value : Upper : Fixed : Stale : Domain\n",
      "            ('Step 1', 'A') :     0 :   1.0 :     1 : False : False : Binary\n",
      "            ('Step 1', 'B') :     0 :   0.0 :     1 : False : False : Binary\n",
      "            ('Step 2', 'A') :     0 :   1.0 :     1 : False : False : Binary\n",
      "            ('Step 2', 'B') :     0 :   0.0 :     1 : False : False : Binary\n",
      "            ('Step 2', 'C') :     0 :   0.0 :     1 : False : False : Binary\n",
      "            ('Step 2', 'D') :     0 :   0.0 :     1 : False : False : Binary\n",
      "\n",
      "    1 Objective Declarations\n",
      "        obj : Size=1, Index=None, Active=True\n",
      "            Key  : Active : Sense    : Expression\n",
      "            None :   True : minimize : 100*x[Step 1,A] + 150*x[Step 1,B] + 100*x[Step 2,A] + 150*x[Step 2,B] + 300*x[Step 2,C] + 200*x[Step 2,D]\n",
      "\n",
      "    2 Constraint Declarations\n",
      "        one_per_group : Size=2, Index={Step 1, Step 2}, Active=True\n",
      "            Key    : Lower : Body                                                  : Upper : Active\n",
      "            Step 1 :   1.0 :                             x[Step 1,A] + x[Step 1,B] :   1.0 :   True\n",
      "            Step 2 :   1.0 : x[Step 2,A] + x[Step 2,B] + x[Step 2,C] + x[Step 2,D] :   1.0 :   True\n",
      "        prod_level : Size=1, Index=None, Active=True\n",
      "            Key  : Lower : Body                                                                                                      : Upper : Active\n",
      "            None :  -Inf : 100*x[Step 1,A] + 150*x[Step 1,B] + 100*x[Step 2,A] + 150*x[Step 2,B] + 300*x[Step 2,C] + 200*x[Step 2,D] : 200.0 :   True\n",
      "\n",
      "    4 Declarations: x one_per_group prod_level obj\n"
     ]
    }
   ],
   "source": [
    "sheet_dicts, step1_data, step2_data = load_data(\"test-data.xlsx\")\n",
    "vendor_names1, production1, cost1 = split_vendor_data(step1_data)\n",
    "vendor_names2, production2, cost2 = split_vendor_data(step2_data)\n",
    "vendors = {\"Step 1\":vendor_names1, \"Step 2\":vendor_names2}\n",
    "production = {\"Step 1\":production1, \"Step 2\":production2}\n",
    "cost = {\"Step 1\":cost1, \"Step 2\":cost2}\n",
    "print(vendors)\n",
    "optimize(vendors, production, cost, 200)"
   ]
  }
 ],
 "metadata": {
  "kernelspec": {
   "display_name": "base",
   "language": "python",
   "name": "python3"
  },
  "language_info": {
   "codemirror_mode": {
    "name": "ipython",
    "version": 3
   },
   "file_extension": ".py",
   "mimetype": "text/x-python",
   "name": "python",
   "nbconvert_exporter": "python",
   "pygments_lexer": "ipython3",
   "version": "3.12.7"
  }
 },
 "nbformat": 4,
 "nbformat_minor": 5
}
