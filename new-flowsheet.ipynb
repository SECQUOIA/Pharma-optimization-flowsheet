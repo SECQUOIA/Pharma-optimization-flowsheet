{
 "cells": [
  {
   "cell_type": "code",
   "execution_count": 14,
   "id": "a3778da1",
   "metadata": {},
   "outputs": [],
   "source": [
    "import pyomo.environ as pyo\n",
    "import networkx as nx\n",
    "import matplotlib.pyplot as plt\n",
    "import pandas as pd\n",
    "from pathlib import Path"
   ]
  },
  {
   "cell_type": "code",
   "execution_count": 15,
   "id": "4de02262",
   "metadata": {},
   "outputs": [],
   "source": [
    "def load_data(file_name):\n",
    "    file_path = Path(file_name).resolve()\n",
    "    excel_file = pd.read_excel(file_path, sheet_name=None)\n",
    "    sheet_dicts = {\n",
    "        sheet_name: df.to_dict(orient=\"records\")\n",
    "        for sheet_name, df in excel_file.items()\n",
    "    }\n",
    "    # Assign each to a variable\n",
    "    vendorA_data = sheet_dicts.get(\"vendor a\")\n",
    "    vendorB_data = sheet_dicts.get(\"vendor b\")\n",
    "    vendorC_data = sheet_dicts.get(\"vendor c\")\n",
    "    vendorD_data = sheet_dicts.get(\"vendor d\")\n",
    "\n",
    "    return sheet_dicts, vendorA_data, vendorB_data, vendorC_data, vendorD_data\n",
    "\n",
    "def split_vendor_data(data):\n",
    "    step_names = [entry['step'] for entry in data]\n",
    "    \n",
    "    production_dict = {entry['step']: entry['production'] for entry in data}\n",
    "    cost_dict = {entry['step']: entry['cost'] for entry in data}\n",
    "    \n",
    "    return step_names, production_dict, cost_dict"
   ]
  },
  {
   "cell_type": "code",
   "execution_count": null,
   "id": "a6488031",
   "metadata": {},
   "outputs": [],
   "source": [
    "def optimize(step_names, budget):\n",
    "    model = pyo.ConcreteModel(doc=\"flowsheet Optimization Model\")\n",
    "    def prod_objective(m):\n",
    "\n",
    "    model.obj = pyo.Objective(rule=prod_objective, sense = pyo.maximize )\n",
    "    \n",
    "    def budget_constraint(m):\n",
    "\n",
    "    model.budget_constraint = pyo.Constraint(rule=budget_constraint)\n",
    "\n",
    "    opt = pyo.SolverFactory(\"gurobi\")\n",
    "    opt_success = opt.solve(model)\n",
    "\n",
    "    model.pprint()\n"
   ]
  },
  {
   "cell_type": "code",
   "execution_count": 17,
   "id": "d6d16175",
   "metadata": {},
   "outputs": [
    {
     "name": "stdout",
     "output_type": "stream",
     "text": [
      "{'vendor a': [{'step': 1, 'production': 50, 'cost': 10}, {'step': 2, 'production': 100, 'cost': 25}, {'step': 3, 'production': 75, 'cost': 12}, {'step': 4, 'production': 45, 'cost': 15}], 'vendor b': [{'step': 1, 'production': 50, 'cost': 10}, {'step': 2, 'production': 75, 'cost': 15}, {'step': 3, 'production': 65, 'cost': 12}, {'step': 4, 'production': 45, 'cost': 15}], 'vendor c': [{'step': 1, 'production': 43, 'cost': 21}, {'step': 2, 'production': 100, 'cost': 25}, {'step': 3, 'production': 44, 'cost': 20}, {'step': 4, 'production': 45, 'cost': 30}], 'vendor d': [{'step': 1, 'production': 50, 'cost': 10}, {'step': 2, 'production': 89, 'cost': 25}, {'step': 3, 'production': 57, 'cost': 22}, {'step': 4, 'production': 100, 'cost': 45}]}\n",
      "[{'step': 1, 'production': 50, 'cost': 10}, {'step': 2, 'production': 100, 'cost': 25}, {'step': 3, 'production': 75, 'cost': 12}, {'step': 4, 'production': 45, 'cost': 15}]\n"
     ]
    }
   ],
   "source": [
    "sheet_dicts, vendorA_data, vendorB_data, vendorC_data, vendorD_data = load_data(\"test-data.xlsx\")\n",
    "print(sheet_dicts)\n",
    "print(vendorA_data)"
   ]
  }
 ],
 "metadata": {
  "kernelspec": {
   "display_name": "base",
   "language": "python",
   "name": "python3"
  },
  "language_info": {
   "codemirror_mode": {
    "name": "ipython",
    "version": 3
   },
   "file_extension": ".py",
   "mimetype": "text/x-python",
   "name": "python",
   "nbconvert_exporter": "python",
   "pygments_lexer": "ipython3",
   "version": "3.12.7"
  }
 },
 "nbformat": 4,
 "nbformat_minor": 5
}
